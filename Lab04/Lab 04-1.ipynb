{
 "cells": [
  {
   "cell_type": "code",
   "execution_count": 58,
   "id": "af4c3280-a9aa-43cb-b869-0500cf1fdef8",
   "metadata": {},
   "outputs": [
    {
     "name": "stdout",
     "output_type": "stream",
     "text": [
      "/Users/stuber/Desktop/UA/Lab04\n"
     ]
    }
   ],
   "source": [
    "import os\n",
    "print(os.getcwd())"
   ]
  },
  {
   "cell_type": "code",
   "execution_count": 60,
   "id": "f856b302-224e-4af3-b7b4-d9cb828f0827",
   "metadata": {},
   "outputs": [
    {
     "name": "stdout",
     "output_type": "stream",
     "text": [
      "/Users/stuber/Desktop/UA/Lab04\n"
     ]
    }
   ],
   "source": [
    "os.chdir(\"/Users/stuber/Desktop/UA/Lab04\")\n",
    "print(os.getcwd())  "
   ]
  },
  {
   "cell_type": "code",
   "execution_count": 62,
   "id": "cee0dd66-fcdb-4865-8a85-2f6e1f5f9955",
   "metadata": {},
   "outputs": [],
   "source": [
    "def read_gal(file_path):\n",
    "    \"\"\"\n",
    "    Reading a GAL file.\n",
    "    \"\"\"\n",
    "    gal_dict = {}\n",
    "    \n",
    "    with open(file_path, 'r') as f:\n",
    "        lines = [line.strip() for line in f.readlines() if line.strip()]\n",
    "\n",
    "    i = 0\n",
    "    while i < len(lines):\n",
    "        line = lines[i].split()\n",
    "        \n",
    "        if len(line) < 2:\n",
    "            print(f\" Error: Line {i+1} has an incorrect format, skipping: {line}\")\n",
    "            i += 1\n",
    "            continue\n",
    "\n",
    "        try:\n",
    "            unit_id = int(line[0])\n",
    "            num_neighbors = int(line[1])\n",
    "\n",
    "            if i + 1 < len(lines):\n",
    "                neighbors = list(map(int, lines[i + 1].split())) if num_neighbors > 0 else []\n",
    "            else:\n",
    "                print(f\" Warning: {unit_id} declared {num_neighbors} neighbors, but the file ended prematurely.\")\n",
    "                neighbors = []\n",
    "\n",
    "            gal_dict[unit_id] = neighbors\n",
    "            i += 2  # Skip the neighbor list line\n",
    "\n",
    "        except ValueError:\n",
    "            print(f\" Warning: Line {i+1} contains non-numeric data, skipping: {line}\")\n",
    "            i += 1\n",
    "\n",
    "    return gal_dict"
   ]
  },
  {
   "cell_type": "code",
   "execution_count": 64,
   "id": "0c8576db-c963-4608-91e4-853aed77d6a5",
   "metadata": {},
   "outputs": [
    {
     "name": "stdout",
     "output_type": "stream",
     "text": [
      " Warning: 44 declared 48 neighbors, but the file ended prematurely.\n"
     ]
    }
   ],
   "source": [
    "file_path = \"Lab04-1.gal\"\n",
    "gal_dict = read_gal(file_path)"
   ]
  },
  {
   "cell_type": "code",
   "execution_count": 66,
   "id": "661cfdac-c180-4469-9a7d-78184ab4afed",
   "metadata": {},
   "outputs": [
    {
     "name": "stdout",
     "output_type": "stream",
     "text": [
      "adjacency dictionary:\n",
      "0: [1, 2]\n",
      "2: [2, 3]\n",
      "4: [3, 4]\n",
      "5: [4, 4]\n",
      "8: [5, 7]\n",
      "15: [6, 2]\n",
      "9: [7, 3]\n",
      "14: [14, 6]\n",
      "12: [9, 6]\n",
      "26: [10, 3]\n",
      "20: [11, 4]\n",
      "16: [13, 3]\n",
      "19: [15, 4]\n",
      "25: [17, 3]\n",
      "23: [18, 4]\n",
      "24: [19, 3]\n",
      "18: [20, 9]\n",
      "35: [34, 4]\n",
      "34: [43, 5]\n",
      "28: [27, 4]\n",
      "32: [24, 6]\n",
      "30: [25, 5]\n",
      "29: [26, 4]\n",
      "33: [28, 7]\n",
      "38: [29, 4]\n",
      "37: [31, 2]\n",
      "36: [47, 2]\n",
      "41: [33, 4]\n",
      "42: [35, 5]\n",
      "44: []\n",
      "46: [40, 4]\n",
      "45: [38, 4]\n",
      "43: [39, 2]\n",
      "47: [42, 2]\n",
      "48: [46, 2]\n",
      "49: [49, 3]\n",
      "40: [48, 4]\n"
     ]
    }
   ],
   "source": [
    "print(\"adjacency dictionary:\")\n",
    "for key, value in gal_dict.items():\n",
    "    print(f\"{key}: {value}\")"
   ]
  },
  {
   "cell_type": "code",
   "execution_count": 68,
   "id": "ec03a8fd-b285-4298-8113-5258bc8f6a8e",
   "metadata": {},
   "outputs": [],
   "source": [
    "def neighbor_histogram(gal_dict):\n",
    "    \"\"\"\n",
    "    Computes a histogram of neighbor counts.\n",
    "    \"\"\"\n",
    "    hist_dict = {}\n",
    "    \n",
    "    for unit_id, neighbors in gal_dict.items():\n",
    "        num_neighbors = len(neighbors)\n",
    "        \n",
    "        if num_neighbors not in hist_dict:\n",
    "            hist_dict[num_neighbors] = []\n",
    "        \n",
    "        hist_dict[num_neighbors].append(unit_id)\n",
    "    \n",
    "    return hist_dict"
   ]
  },
  {
   "cell_type": "code",
   "execution_count": 70,
   "id": "2eafb5ce-d8e8-4eb0-a570-8f5491352c7f",
   "metadata": {},
   "outputs": [],
   "source": [
    "hist_dict = neighbor_histogram(gal_dict)"
   ]
  },
  {
   "cell_type": "code",
   "execution_count": 72,
   "id": "ad8dc64c-9631-4daf-ba51-e15b256b723e",
   "metadata": {},
   "outputs": [
    {
     "name": "stdout",
     "output_type": "stream",
     "text": [
      "Neighbour count histogram：\n",
      "2 neighbors: [0, 2, 4, 5, 8, 15, 9, 14, 12, 26, 20, 16, 19, 25, 23, 24, 18, 35, 34, 28, 32, 30, 29, 33, 38, 37, 36, 41, 42, 46, 45, 43, 47, 48, 49, 40]\n",
      "0 neighbors: [44]\n"
     ]
    }
   ],
   "source": [
    "print(\"Neighbour count histogram：\")\n",
    "for key, value in hist_dict.items():\n",
    "    print(f\"{key} neighbors: {value}\")"
   ]
  },
  {
   "cell_type": "code",
   "execution_count": 74,
   "id": "375dc932-27fb-49fc-a42d-1b00742aa8c3",
   "metadata": {},
   "outputs": [],
   "source": [
    "def check_asymmetry(gal_dict):\n",
    "    \"\"\"\n",
    "    Checks for asymmetrical adjacency relations.\n",
    "    \"\"\"\n",
    "    asymmetries = []\n",
    "    \n",
    "    for unit_id, neighbors in gal_dict.items():\n",
    "        for neighbor in neighbors:\n",
    "            if unit_id not in gal_dict.get(neighbor, []):\n",
    "                asymmetries.append((unit_id, neighbor))\n",
    "    \n",
    "    return asymmetries"
   ]
  },
  {
   "cell_type": "code",
   "execution_count": 76,
   "id": "14442449-bf34-4e4c-a430-1510ac28bc6b",
   "metadata": {},
   "outputs": [],
   "source": [
    "asymmetries = check_asymmetry(gal_dict)"
   ]
  },
  {
   "cell_type": "code",
   "execution_count": 78,
   "id": "565912ee-b551-4140-9e55-f05b1c2abfdc",
   "metadata": {},
   "outputs": [
    {
     "name": "stdout",
     "output_type": "stream",
     "text": [
      "Asymmetrical relations found:\n",
      "0 -> 1 is asymmetrical\n",
      "0 -> 2 is asymmetrical\n",
      "2 -> 3 is asymmetrical\n",
      "4 -> 3 is asymmetrical\n",
      "5 -> 4 is asymmetrical\n",
      "5 -> 4 is asymmetrical\n",
      "8 -> 5 is asymmetrical\n",
      "8 -> 7 is asymmetrical\n",
      "15 -> 6 is asymmetrical\n",
      "15 -> 2 is asymmetrical\n",
      "9 -> 7 is asymmetrical\n",
      "9 -> 3 is asymmetrical\n",
      "14 -> 6 is asymmetrical\n",
      "12 -> 9 is asymmetrical\n",
      "12 -> 6 is asymmetrical\n",
      "26 -> 10 is asymmetrical\n",
      "26 -> 3 is asymmetrical\n",
      "20 -> 11 is asymmetrical\n",
      "20 -> 4 is asymmetrical\n",
      "16 -> 13 is asymmetrical\n",
      "16 -> 3 is asymmetrical\n",
      "19 -> 15 is asymmetrical\n",
      "19 -> 4 is asymmetrical\n",
      "25 -> 17 is asymmetrical\n",
      "25 -> 3 is asymmetrical\n",
      "23 -> 18 is asymmetrical\n",
      "23 -> 4 is asymmetrical\n",
      "24 -> 19 is asymmetrical\n",
      "24 -> 3 is asymmetrical\n",
      "18 -> 20 is asymmetrical\n",
      "18 -> 9 is asymmetrical\n",
      "35 -> 34 is asymmetrical\n",
      "35 -> 4 is asymmetrical\n",
      "34 -> 43 is asymmetrical\n",
      "34 -> 5 is asymmetrical\n",
      "28 -> 27 is asymmetrical\n",
      "28 -> 4 is asymmetrical\n",
      "32 -> 24 is asymmetrical\n",
      "32 -> 6 is asymmetrical\n",
      "30 -> 25 is asymmetrical\n",
      "30 -> 5 is asymmetrical\n",
      "29 -> 26 is asymmetrical\n",
      "29 -> 4 is asymmetrical\n",
      "33 -> 28 is asymmetrical\n",
      "33 -> 7 is asymmetrical\n",
      "38 -> 29 is asymmetrical\n",
      "38 -> 4 is asymmetrical\n",
      "37 -> 31 is asymmetrical\n",
      "37 -> 2 is asymmetrical\n",
      "36 -> 47 is asymmetrical\n",
      "36 -> 2 is asymmetrical\n",
      "41 -> 33 is asymmetrical\n",
      "41 -> 4 is asymmetrical\n",
      "42 -> 35 is asymmetrical\n",
      "42 -> 5 is asymmetrical\n",
      "46 -> 40 is asymmetrical\n",
      "46 -> 4 is asymmetrical\n",
      "45 -> 38 is asymmetrical\n",
      "45 -> 4 is asymmetrical\n",
      "43 -> 39 is asymmetrical\n",
      "43 -> 2 is asymmetrical\n",
      "47 -> 42 is asymmetrical\n",
      "47 -> 2 is asymmetrical\n",
      "48 -> 46 is asymmetrical\n",
      "48 -> 2 is asymmetrical\n",
      "49 -> 3 is asymmetrical\n",
      "40 -> 48 is asymmetrical\n",
      "40 -> 4 is asymmetrical\n"
     ]
    }
   ],
   "source": [
    "if asymmetries:\n",
    "    print(\"Asymmetrical relations found:\")\n",
    "    for pair in asymmetries:\n",
    "        print(f\"{pair[0]} -> {pair[1]} is asymmetrical\")\n",
    "else:\n",
    "    print(\"All adjacency relations are symmetrical\")"
   ]
  },
  {
   "cell_type": "code",
   "execution_count": 80,
   "id": "b96ea7f1-258a-43ad-991b-55f41480fbd4",
   "metadata": {},
   "outputs": [],
   "source": [
    "import matplotlib.pyplot as plt"
   ]
  },
  {
   "cell_type": "code",
   "execution_count": 82,
   "id": "fd7a9375-c155-458e-83d3-223ec56528c5",
   "metadata": {},
   "outputs": [],
   "source": [
    "def plot_histogram(hist_dict):\n",
    "    \"\"\"\n",
    "    Plots a histogram of neighbor counts.\n",
    "    \"\"\"\n",
    "    neighbor_counts = list(hist_dict.keys())\n",
    "    unit_counts = [len(hist_dict[key]) for key in neighbor_counts]\n",
    "\n",
    "    plt.bar(neighbor_counts, unit_counts, tick_label=neighbor_counts)\n",
    "    plt.xlabel(\"Number of Neighbors\")\n",
    "    plt.ylabel(\"Number of Spatial Units\")\n",
    "    plt.title(\"Neighbor Count Histogram\")\n",
    "    plt.show()"
   ]
  },
  {
   "cell_type": "code",
   "execution_count": 84,
   "id": "b8307250-a92c-4a75-8b42-146ca1bf5a7d",
   "metadata": {},
   "outputs": [
    {
     "data": {
      "image/png": "[encoded data removed]",
      "text/plain": [
       "<Figure size 640x480 with 1 Axes>"
      ]
     },
     "metadata": {},
     "output_type": "display_data"
    }
   ],
   "source": [
    "plot_histogram(hist_dict)"
   ]
  }
 ],
 "metadata": {
  "kernelspec": {
   "display_name": "Python [conda env:base] *",
   "language": "python",
   "name": "conda-base-py"
  },
  "language_info": {
   "codemirror_mode": {
    "name": "ipython",
    "version": 3
   },
   "file_extension": ".py",
   "mimetype": "text/x-python",
   "name": "python",
   "nbconvert_exporter": "python",
   "pygments_lexer": "ipython3",
   "version": "3.12.7"
  }
 },
 "nbformat": 4,
 "nbformat_minor": 5
}
